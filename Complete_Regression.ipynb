{
 "cells": [
  {
   "cell_type": "code",
   "execution_count": null,
   "metadata": {},
   "outputs": [],
   "source": [
    "import numpy as np\n",
    "import pandas as pd\n",
    "import seaborn as sns\n",
    "import matplotlib.pyplot as plt\n"
   ]
  },
  {
   "cell_type": "code",
   "execution_count": null,
   "metadata": {},
   "outputs": [],
   "source": [
    "df=pd.read_csv(\"C:\\\\Users\\\\varun\\\\OneDrive\\\\Desktop\\\\kaggle\\\\dataset\\\\Regression\\\\insurance.csv\")"
   ]
  },
  {
   "cell_type": "code",
   "execution_count": null,
   "metadata": {},
   "outputs": [],
   "source": [
    "df.info()"
   ]
  },
  {
   "cell_type": "code",
   "execution_count": null,
   "metadata": {},
   "outputs": [],
   "source": [
    "df.isnull().sum()"
   ]
  },
  {
   "cell_type": "code",
   "execution_count": null,
   "metadata": {},
   "outputs": [],
   "source": [
    "num_col=df.select_dtypes(include=['int64','float64']).columns\n",
    "for col in num_col:\n",
    "    print(f\"{col}   {df[col].skew()}\")\n"
   ]
  },
  {
   "cell_type": "code",
   "execution_count": null,
   "metadata": {},
   "outputs": [],
   "source": [
    "df['charges_log']=np.log(df['charges']+1)\n",
    "# df['charges_log'].skew()\n",
    "sns.histplot(df['charges_log'],kde=True)"
   ]
  },
  {
   "cell_type": "code",
   "execution_count": null,
   "metadata": {},
   "outputs": [],
   "source": [
    "sns.histplot(df['charges'],kde=True)\n"
   ]
  },
  {
   "cell_type": "code",
   "execution_count": null,
   "metadata": {},
   "outputs": [],
   "source": [
    "# df.drop('charges',axis=1,inplace=True)\n",
    "for col in num_col:\n",
    "    plt.figure(figsize=(6,4))\n",
    "    sns.boxplot(df[col])"
   ]
  },
  {
   "cell_type": "code",
   "execution_count": null,
   "metadata": {},
   "outputs": [],
   "source": [
    "q1=df['bmi'].quantile(0.25)\n",
    "q3=df['bmi'].quantile(0.75)\n",
    "IQR=q3-q1\n",
    "lower_limit,upper_limit=(q1-1.5*IQR),(q3+1.5*IQR)\n",
    "df['bmi']=df['bmi'].apply(lambda x: upper_limit \n",
    "                          if x> upper_limit else (lower_limit if  x < lower_limit else x ))"
   ]
  },
  {
   "cell_type": "code",
   "execution_count": null,
   "metadata": {},
   "outputs": [],
   "source": [
    "# df['bmi']\n",
    "sns.boxplot(df['bmi'])"
   ]
  },
  {
   "cell_type": "code",
   "execution_count": null,
   "metadata": {},
   "outputs": [],
   "source": [
    "df.info()"
   ]
  },
  {
   "cell_type": "code",
   "execution_count": null,
   "metadata": {},
   "outputs": [],
   "source": [
    "char_col=df.select_dtypes(include='object').columns\n",
    "for col in char_col:\n",
    "    print(f\"{col}       {df[col].unique()}\")"
   ]
  },
  {
   "cell_type": "code",
   "execution_count": null,
   "metadata": {},
   "outputs": [],
   "source": [
    "from sklearn.compose import ColumnTransformer\n",
    "from sklearn.preprocessing import OneHotEncoder ,StandardScaler,LabelEncoder\n",
    "preprocessor=ColumnTransformer([\n",
    "    ('num',StandardScaler(),num_col),\n",
    "    ('cat',OneHotEncoder(),char_col)\n",
    "    \n",
    "])\n",
    "x_transformed=preprocessor.fit_transform(df.drop('charges_log',axis=1))\n",
    "# x_pre=preprocessor.drop('charges_log',axis=1)\n",
    "# x_transfor=pd.DataFrame(preprocessor)"
   ]
  },
  {
   "cell_type": "code",
   "execution_count": null,
   "metadata": {},
   "outputs": [],
   "source": [
    "# x_transformed\n",
    "\n"
   ]
  },
  {
   "cell_type": "code",
   "execution_count": null,
   "metadata": {},
   "outputs": [],
   "source": [
    "# char_col=df.select_dtypes(exclude='object').columns\n",
    "# for col in char_col:\n",
    "x,y=df.drop('charges_log',axis=1),df['charges_log']\n",
    "from sklearn.preprocessing import OneHotEncoder ,StandardScaler,LabelEncoder\n",
    "from sklearn.pipeline import Pipeline\n",
    "simple_pipe=Pipeline([\n",
    "    ('ohe',OneHotEncoder(drop='first',sparse_output=False)),\n",
    "    ('ss',StandardScaler()),\n",
    "    ('le',LabelEncoder())\n",
    "])\n",
    "df\n",
    "df['sex']=simple_pipe.named_steps['le'].fit_transform(df['sex'])\n",
    "df['smoker']=simple_pipe.named_steps['le'].fit_transform(df['smoker'])\n",
    "encoder=simple_pipe.named_steps['ohe'].fit_transform(df[['region']])\n",
    "encoder_final=pd.DataFrame(encoder,columns=simple_pipe.named_steps['ohe'].get_feature_names_out())\n",
    "df=pd.concat([df,encoder_final],axis=1)\n",
    "\n",
    "\n",
    "# df.drop('region',axis=1,inplace=True)\n",
    "\n",
    "    "
   ]
  },
  {
   "cell_type": "code",
   "execution_count": null,
   "metadata": {},
   "outputs": [],
   "source": []
  },
  {
   "cell_type": "code",
   "execution_count": null,
   "metadata": {},
   "outputs": [],
   "source": [
    "x,y=df.drop('charges_log',axis=1),df['charges_log']\n",
    "df.info()\n",
    "\n",
    "# df.drop('region',axis=1,inplace=True)"
   ]
  },
  {
   "cell_type": "code",
   "execution_count": null,
   "metadata": {},
   "outputs": [],
   "source": [
    "from sklearn.linear_model import LinearRegression,ElasticNet,Lasso,Ridge\n",
    "from sklearn.preprocessing import PolynomialFeatures\n",
    "from sklearn.metrics import r2_score,mean_squared_error\n",
    "from sklearn.model_selection import train_test_split,GridSearchCV\n",
    "from sklearn.preprocessing import StandardScaler\n",
    "model_pipe=Pipeline([\n",
    "    ('poly',PolynomialFeatures(degree=3)),\n",
    "    ('lg',LinearRegression()),\n",
    "    ('rd',Ridge()),\n",
    "    ('ls',Lasso()),\n",
    "    ('elastic',ElasticNet())\n",
    "])\n",
    "pram_grid={'alpha':[0.01,0.1,1,10,100]}\n",
    "grid_search=GridSearchCV(ElasticNet(),pram_grid,cv=5,scoring='r2')\n",
    "\n"
   ]
  },
  {
   "cell_type": "code",
   "execution_count": null,
   "metadata": {},
   "outputs": [],
   "source": [
    "x_train,x_test,y_train,y_test=train_test_split(x,y,test_size=0.3,random_state=42)\n",
    "x_ss_train=simple_pipe.named_steps['ss'].fit_transform(x_train)\n",
    "x_ss_test=simple_pipe.named_steps['ss'].transform(x_test)\n",
    "model_pipe.named_steps['lg'].fit(x_ss_train,y_train)\n",
    "y_pred=model_pipe.named_steps['lg'].predict(x_ss_test)\n",
    "r2_linear=r2_score(y_test,y_pred)\n",
    "r2_linear\n",
    "# x.info()"
   ]
  },
  {
   "cell_type": "code",
   "execution_count": null,
   "metadata": {},
   "outputs": [],
   "source": [
    "x_train,x_test,y_train,y_test=train_test_split(x_transformed,y,test_size=0.3,random_state=42)\n",
    "x_ss_train=simple_pipe.named_steps['ss'].fit_transform(x_train)\n",
    "x_ss_test=simple_pipe.named_steps['ss'].transform(x_test)\n",
    "model_pipe.named_steps['lg'].fit(x_ss_train,y_train)\n",
    "y_pred=model_pipe.named_steps['lg'].predict(x_ss_test)\n",
    "r2_linear=r2_score(y_test,y_pred)\n",
    "r2_linear\n",
    "# x.info()"
   ]
  },
  {
   "cell_type": "code",
   "execution_count": null,
   "metadata": {},
   "outputs": [],
   "source": [
    "x_train,x_test,y_train,y_test=train_test_split(x,y,test_size=0.3,random_state=42)\n",
    "x_poly_train=model_pipe.named_steps['poly'].fit_transform(x_train)\n",
    "x_poly_test=model_pipe.named_steps['poly'].transform(x_test)\n",
    "model_pipe.named_steps['lg'].fit(x_poly_train,y_train)\n",
    "y_pred=model_pipe.named_steps['lg'].predict(x_poly_test)\n",
    "r2_poly=r2_score(y_test,y_pred)\n",
    "r2_poly"
   ]
  },
  {
   "cell_type": "code",
   "execution_count": null,
   "metadata": {},
   "outputs": [],
   "source": [
    "x_train,x_test,y_train,y_test=train_test_split(x_transformed,y,test_size=0.3,random_state=42)\n",
    "x_poly_train=model_pipe.named_steps['poly'].fit_transform(x_train)\n",
    "x_poly_test=model_pipe.named_steps['poly'].transform(x_test)\n",
    "model_pipe.named_steps['lg'].fit(x_poly_train,y_train)\n",
    "y_pred=model_pipe.named_steps['lg'].predict(x_poly_test)\n",
    "r2_poly=r2_score(y_test,y_pred)\n",
    "r2_poly"
   ]
  },
  {
   "cell_type": "code",
   "execution_count": null,
   "metadata": {},
   "outputs": [],
   "source": [
    "x_train,x_test,y_train,y_test=train_test_split(x,y,test_size=0.3,random_state=42)\n",
    "x_ss_train=simple_pipe.named_steps['ss'].fit_transform(x_train)\n",
    "x_ss_test=simple_pipe.named_steps['ss'].transform(x_test)\n",
    "grid_search=GridSearchCV(Ridge(alpha=1.0),pram_grid,cv=5,scoring='r2')\n",
    "model_pipe.named_steps['rd'].fit(x_train,y_train)\n",
    "# best_elimate=grid_search.best_estimator_\n",
    "y_pred=model_pipe.named_steps['rd'].predict(x_test)\n",
    "r2_ridge=r2_score(y_test,y_pred)\n",
    "r2_ridge"
   ]
  },
  {
   "cell_type": "code",
   "execution_count": null,
   "metadata": {},
   "outputs": [],
   "source": [
    "x_train,x_test,y_train,y_test=train_test_split(x_transformed,y,test_size=0.3,random_state=42)\n",
    "x_ss_train=simple_pipe.named_steps['ss'].fit_transform(x_train)\n",
    "x_ss_test=simple_pipe.named_steps['ss'].transform(x_test)\n",
    "grid_search=GridSearchCV(Ridge(alpha=1.0),pram_grid,cv=5,scoring='r2')\n",
    "model_pipe.named_steps['rd'].fit(x_ss_train,y_train)\n",
    "y_pred=model_pipe['rd'].predict(x_ss_test)\n",
    "r2_ridge=r2_score(y_test,y_pred)\n",
    "r2_ridge"
   ]
  },
  {
   "cell_type": "code",
   "execution_count": null,
   "metadata": {},
   "outputs": [],
   "source": [
    "x_train,x_test,y_train,y_test=train_test_split(x,y,test_size=0.3,random_state=42)\n",
    "x_ss_train=simple_pipe.named_steps['ss'].fit_transform(x_train)\n",
    "x_ss_test=simple_pipe.named_steps['ss'].transform(x_test)\n",
    "grid_search=GridSearchCV(Lasso(alpha=0.01),pram_grid,cv=5,scoring='r2')\n",
    "model_pipe.named_steps['ls'].fit(x_train,y_train)\n",
    "# best_elimate=grid_search.best_estimator_\n",
    "y_pred=model_pipe.named_steps['ls'].predict(x_test)\n",
    "r2_lasso=r2_score(y_test,y_pred)\n",
    "# r2_lasso\n",
    "# model_pipe.named_steps['ls'].coef_\n",
    "grid_search.best_params_"
   ]
  },
  {
   "cell_type": "code",
   "execution_count": null,
   "metadata": {},
   "outputs": [],
   "source": [
    "x_train,x_test,y_train,y_test=train_test_split(x_transformed,y,test_size=0.3,random_state=42)\n",
    "x_ss_train=simple_pipe.named_steps['ss'].fit_transform(x_train)\n",
    "x_ss_test=simple_pipe.named_steps['ss'].transform(x_test)\n",
    "grid_search=GridSearchCV(Lasso(alpha=0.01),pram_grid,cv=5,scoring='r2')\n",
    "model_pipe.named_steps['ls'].fit(x_ss_train,y_train)\n",
    "# best_elimate=grid_search.best_estimator_\n",
    "y_pred=model_pipe.named_steps['ls'].predict(x_ss_test)\n",
    "r2_lasso=r2_score(y_test,y_pred)\n",
    "r2_lasso"
   ]
  },
  {
   "cell_type": "code",
   "execution_count": null,
   "metadata": {},
   "outputs": [],
   "source": [
    "x_train,x_test,y_train,y_test=train_test_split(x,y,test_size=0.3,random_state=42)\n",
    "x_ss_train=simple_pipe.named_steps['ss'].fit_transform(x_train)\n",
    "x_ss_test=simple_pipe.named_steps['ss'].transform(x_test)\n",
    "grid_search=GridSearchCV(ElasticNet(),pram_grid,cv=5,scoring='r2')\n",
    "model_pipe.named_steps['elastic'].fit(x_train,y_train)\n",
    "# best_elimate=grid_search.best_estimator_\n",
    "y_pred=model_pipe.named_steps['elastic'].predict(x_test)\n",
    "r2_lasso=r2_score(y_test,y_pred)\n",
    "r2_lasso"
   ]
  },
  {
   "cell_type": "code",
   "execution_count": null,
   "metadata": {},
   "outputs": [],
   "source": [
    "x_train,x_test,y_train,y_test=train_test_split(x_transformed,y,test_size=0.3,random_state=42)\n",
    "x_ss_train=simple_pipe.named_steps['ss'].fit_transform(x_train)\n",
    "x_ss_test=simple_pipe.named_steps['ss'].transform(x_test)\n",
    "grid_search=GridSearchCV(ElasticNet(),pram_grid,cv=5,scoring='r2')\n",
    "model_pipe.named_steps['elastic'].fit(x_ss_train,y_train)\n",
    "# best_elimate=grid_search.best_estimator_\n",
    "y_pred=model_pipe.named_steps['elastic'].predict(x_ss_test)\n",
    "r2_elastic=r2_score(y_test,y_pred)\n",
    "r2_elastic"
   ]
  }
 ],
 "metadata": {
  "kernelspec": {
   "display_name": "Python 3",
   "language": "python",
   "name": "python3"
  },
  "language_info": {
   "codemirror_mode": {
    "name": "ipython",
    "version": 3
   },
   "file_extension": ".py",
   "mimetype": "text/x-python",
   "name": "python",
   "nbconvert_exporter": "python",
   "pygments_lexer": "ipython3",
   "version": "3.12.5"
  }
 },
 "nbformat": 4,
 "nbformat_minor": 2
}
